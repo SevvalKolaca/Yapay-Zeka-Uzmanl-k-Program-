{
 "cells": [
  {
   "cell_type": "markdown",
   "id": "9a12d8dc",
   "metadata": {
    "id": "9a12d8dc"
   },
   "source": [
    "# Yapay Zeka Uzmanlık Programı"
   ]
  },
  {
   "cell_type": "markdown",
   "id": "63f256fe",
   "metadata": {
    "id": "63f256fe"
   },
   "source": [
    "## Quiz 1"
   ]
  },
  {
   "cell_type": "markdown",
   "id": "05aae0bf",
   "metadata": {
    "id": "05aae0bf"
   },
   "source": [
    "Lütfen doküman adını YZUP_İsim_Soyisim_Quiz1.ipynb olarak değiştiriniz. Yükleme\n",
    "\n",
    "---\n",
    "\n",
    "linkine aynı isimli zip yükleyiniz.\n",
    "\n",
    "*   Liste öğesi\n",
    "*   Liste öğesi\n",
    "\n"
   ]
  },
  {
   "cell_type": "markdown",
   "id": "34ca256f",
   "metadata": {
    "id": "34ca256f"
   },
   "source": [
    "---"
   ]
  },
  {
   "cell_type": "markdown",
   "id": "75f58167",
   "metadata": {
    "id": "75f58167"
   },
   "source": [
    "### **Python Programlama Giriş**"
   ]
  },
  {
   "cell_type": "markdown",
   "id": "9984dac8",
   "metadata": {
    "id": "9984dac8"
   },
   "source": [
    "- Bu kısımda aşağıda verilen 2 fonksiyonun kod bloklarını verilen önerge ve örneklere doldurulacaktır.\n",
    "- \"raise NotImplementedError\" ile belirtilen yapılar sizin tarafınızdan tamamlanmalıdır."
   ]
  },
  {
   "cell_type": "markdown",
   "id": "017c191d",
   "metadata": {
    "id": "017c191d"
   },
   "source": [
    "---"
   ]
  },
  {
   "cell_type": "code",
   "execution_count": 35,
   "id": "54b71f6c",
   "metadata": {
    "id": "54b71f6c"
   },
   "outputs": [],
   "source": [
    "def buyuk_harf_kontrol(girdi: str) -> bool:\n",
    "    \"\"\" Bu fonksiyona girdi olarak bir string verildiğinde büyük harf kullanım kurallarına uyulup uyulmadığını kontrol eder.\n",
    "    Büyük harf kullanım kuralları:\n",
    "    1: Bir kelimenin ilk harfi büyük, diğerleri küçük harf olabilir.\n",
    "    2: Bir kelimenin tüm harfleri büyük harf olabilir.\n",
    "    3: Bir kelimenin tüm harfleri küçük harf olabilir.\n",
    "\n",
    "    Args:\n",
    "        girdi: En az bir harften oluşan ve boşluk içermeyen bir string\n",
    "\n",
    "    Returns:\n",
    "        bool: True, False\n",
    "\n",
    "    Example:\n",
    "        girdi = \"IRONMAN\"\n",
    "        sonuc = True\n",
    "\n",
    "        girdi = \"SpiderMan\"\n",
    "        sonuc = False\n",
    "\n",
    "    \"\"\"\n",
    "    if type(girdi) != str:\n",
    "        # print(\"Girdi string olmalı!\")\n",
    "        return False\n",
    "\n",
    "    girdi_kelimeleri = girdi.split() # birden fazla kelime varsa boşluğa göre split işlemi\n",
    "    for kelime in girdi_kelimeleri:\n",
    "        if kelime != kelime.upper() and kelime != kelime.capitalize() and kelime != kelime.lower():\n",
    "            return False\n",
    "        else:\n",
    "            return True"
   ]
  },
  {
   "cell_type": "code",
   "execution_count": 36,
   "id": "49ad2739",
   "metadata": {
    "id": "49ad2739"
   },
   "outputs": [
    {
     "name": "stdout",
     "output_type": "stream",
     "text": [
      "True\n",
      "True\n",
      "False\n",
      "True\n",
      "True\n",
      "False\n",
      "False\n"
     ]
    }
   ],
   "source": [
    "# Test Yapısı\n",
    "\n",
    "print(buyuk_harf_kontrol(\"Captain America\"))\n",
    "\n",
    "print(buyuk_harf_kontrol(\"HULK\"))\n",
    "\n",
    "print(buyuk_harf_kontrol(\"BlackWidow\"))\n",
    "\n",
    "print(buyuk_harf_kontrol(\"Hawkeye\"))\n",
    "\n",
    "print(buyuk_harf_kontrol(\"antman\"))\n",
    "\n",
    "print(buyuk_harf_kontrol(\"drSTRANGE\"))\n",
    "\n",
    "print(buyuk_harf_kontrol(123))"
   ]
  },
  {
   "cell_type": "code",
   "execution_count": 40,
   "id": "81844d8a",
   "metadata": {
    "id": "81844d8a"
   },
   "outputs": [],
   "source": [
    "def palindrom_kontrol (sayi: int) -> bool:\n",
    "    \"\"\" Bu fonksiyon bir sayının palindrom olup olmadığını kontrol eder.\n",
    "        Palindrom  sayılar sağdan sola ve soldan sağa aynı şekilde okunmaktadır.\n",
    "\n",
    "    Args:\n",
    "        sayi (int): kontrol yapılacak negatif olmayan sayı\n",
    "\n",
    "\n",
    "    Returns:\n",
    "        sonuc: bool\n",
    "\n",
    "    Example:\n",
    "        sayi: 12821\n",
    "        sonuc: True\n",
    "\n",
    "        sayi: 1223\n",
    "        sonuc: False\n",
    "    \"\"\"\n",
    "    if type(sayi) != int:\n",
    "        # print(\"Girdi integer tipinde olmalı!\")\n",
    "        return False\n",
    "    \n",
    "    if sayi.__str__() == (sayi.__str__()[::-1]): \n",
    "        return True\n",
    "    return False"
   ]
  },
  {
   "cell_type": "code",
   "execution_count": 41,
   "id": "eb3f0e44",
   "metadata": {
    "id": "eb3f0e44"
   },
   "outputs": [
    {
     "name": "stdout",
     "output_type": "stream",
     "text": [
      "True\n",
      "False\n",
      "False\n",
      "False\n"
     ]
    }
   ],
   "source": [
    "# Test Yapısı\n",
    "\n",
    "print(palindrom_kontrol(212444212))\n",
    "\n",
    "print(palindrom_kontrol(537505))\n",
    "\n",
    "print(palindrom_kontrol(\"Deneme\"))\n",
    "\n",
    "print(palindrom_kontrol(\"Aç raporunu koy, okunur o parçA\"))"
   ]
  },
  {
   "cell_type": "markdown",
   "id": "cd202dec",
   "metadata": {
    "id": "cd202dec"
   },
   "source": [
    "---"
   ]
  },
  {
   "cell_type": "markdown",
   "id": "a92933e2",
   "metadata": {
    "id": "a92933e2"
   },
   "source": [
    "### **Python Programlama Giriş**"
   ]
  },
  {
   "cell_type": "markdown",
   "id": "21fd0fc2",
   "metadata": {
    "id": "21fd0fc2"
   },
   "source": [
    "- Bu dokümanda hayali bir çevrimiçi alışveriş sitesinin alt yapısını oluşturacaksınız.\n",
    "- \"raise NotImplementedError\" ile belirtilen yapılar sizin tarafınızdan tamamlanmalıdır.\n",
    "- Belirlenen sınıf ve metod yapıları değiştirilmeden/silinmeden istenen eklemeler yapılabilir."
   ]
  },
  {
   "cell_type": "markdown",
   "id": "2a1aba8e",
   "metadata": {
    "id": "2a1aba8e"
   },
   "source": [
    "---"
   ]
  },
  {
   "cell_type": "code",
   "execution_count": 63,
   "id": "e5cb2c28",
   "metadata": {
    "id": "e5cb2c28",
    "scrolled": true
   },
   "outputs": [],
   "source": [
    "class Urun:\n",
    "    \"\"\"\n",
    "    Alışveriş sitesinde bulunan ürünlerin temel sınıfıdır.\n",
    "    \"\"\"\n",
    "    def __init__(self, urun_adi, fiyat):\n",
    "        \"\"\"\n",
    "        Nesneyi üretir.\n",
    "        \"\"\"\n",
    "        self.urun_adi = urun_adi\n",
    "        self.fiyat = fiyat\n",
    "        self.urun_id = id(self)\n",
    "\n",
    "    def urun_bilgileri(self):\n",
    "        \"\"\"\n",
    "        Ürun bilgilerini döndürür.\n",
    "        \"\"\"\n",
    "        return f\"{self.urun_adi}(#{self.urun_id}) - Fiyat: {self.fiyat} TL\""
   ]
  },
  {
   "cell_type": "code",
   "execution_count": 66,
   "id": "d1e91c60",
   "metadata": {
    "id": "d1e91c60"
   },
   "outputs": [],
   "source": [
    "class Giyim(Urun):\n",
    "    \"\"\"\n",
    "    Alışveriş sitesinde bulunan giyim ürünlerinin temel sınıfıdır.\n",
    "    \"\"\"\n",
    "    def __init__(self, urun_adi, fiyat, renk, beden):\n",
    "        \"\"\"\n",
    "        Nesneyi üretir.\n",
    "        \"\"\"\n",
    "        super().__init__(urun_adi,fiyat)\n",
    "        self.renk = renk\n",
    "        self.beden = beden\n",
    "        \n",
    "    def urun_bilgileri(self):\n",
    "        \"\"\"\n",
    "        Ürun bilgilerini döndürür. \n",
    "        \"\"\"\n",
    "        return f\"{self.urun_adi}(#{self.urun_id}) - Fiyat: {self.fiyat} TL - Renk: {self.renk} - Beden: {self.beden}\""
   ]
  },
  {
   "cell_type": "code",
   "execution_count": 69,
   "id": "7a7995a7",
   "metadata": {
    "id": "7a7995a7"
   },
   "outputs": [],
   "source": [
    "class Beyaz_Esya(Urun):\n",
    "    \"\"\"\n",
    "    Alışveriş sitesinde bulunan beyaz eşya ürünlerinin temel sınıfıdır.\n",
    "    \"\"\"\n",
    "    def __init__(self, urun_adi, fiyat, enerji_tuketimi_sinifi):\n",
    "        \"\"\"\n",
    "        Nesneyi üretir.\n",
    "        \"\"\"\n",
    "        super().__init__(urun_adi,fiyat)\n",
    "        self.enerji_tuketimi_sinifi = enerji_tuketimi_sinifi\n",
    "        \n",
    "    def urun_bilgileri(self):\n",
    "        \"\"\"\n",
    "        Ürun bilgilerini döndürür.\n",
    "        \"\"\"\n",
    "        return f\"{self.urun_adi}(#{self.urun_id}) - Fiyat: {self.fiyat} TL - Enerji Tüketimi Sınıfı: {self.enerji_tuketimi_sinifi}\""
   ]
  },
  {
   "cell_type": "code",
   "execution_count": 136,
   "id": "27c03446",
   "metadata": {
    "id": "27c03446"
   },
   "outputs": [],
   "source": [
    "class Depo:\n",
    "    \"\"\"\n",
    "    Alışveriş sitesinde satışı yapılan \"Urun\" nesnelerinin stoklarının tutulacağı yapıdır.\n",
    "    \"\"\"\n",
    "    def __init__(self):\n",
    "        \"\"\"\n",
    "        Nesneyi üretir\n",
    "        \"\"\"\n",
    "        self.urunler = {}\n",
    "\n",
    "    def urun_ekle(self, urun, adet):\n",
    "        \"\"\"\n",
    "        Ürünü sisteme ekler, eğer ekli bir ürün ise stok sayısı artar.\n",
    "        \"\"\"\n",
    "        if urun not in self.urunler:\n",
    "            self.urunler[urun] = adet\n",
    "        else:\n",
    "            self.urunler[urun] += adet\n",
    "\n",
    "            \n",
    "    def stok_kontrol(self, urun, adet):\n",
    "        \"\"\"\n",
    "        Seçili üründen istenen sayıda depoda olup olmadığını True/False olarak döndürür.\n",
    "        \"\"\"\n",
    "        if urun in self.urunler:\n",
    "            if self.urunler[urun] >= adet:\n",
    "                return True\n",
    "        return False\n",
    "        \n",
    "\n",
    "    def stoktan_dus(self, urun, adet):\n",
    "        \"\"\"\n",
    "        Ürünün sayısını sistemden düşer, eğer yeterli stok yoksa veya ürün depoda yoksa işlem yapmaz.\n",
    "        \"\"\"\n",
    "        if stok_kontrol(urun,adet):\n",
    "            self.urunler[urun] -= adet\n",
    "        return\n",
    "\n",
    "    \n",
    "    def tum_urun_bilgilerini_listele(self):\n",
    "        \"\"\"\n",
    "        Depodaki tüm ürünlerin bilgilerini listeler.\n",
    "        \"\"\"\n",
    "        for urun, adet in self.urunler.items():\n",
    "            print(urun.urun_bilgileri() + f\" Adet: {adet}\")\n",
    "    "
   ]
  },
  {
   "cell_type": "code",
   "execution_count": 137,
   "id": "5c2394c2",
   "metadata": {
    "id": "5c2394c2"
   },
   "outputs": [],
   "source": [
    "class Siparis:\n",
    "    \"\"\"\n",
    "    Kullanıcıların satın alma taleplerini oluşturacağı yapıdır.\n",
    "    \"\"\"\n",
    "    def __init__(self, urun, adet):\n",
    "        \"\"\"\n",
    "        Nesneyi üretir\n",
    "        \"\"\"\n",
    "        self.urun = urun\n",
    "        self.adet = adet\n",
    "        self.indirimsiz_tutar = 0\n",
    "        # self.indirimsiz_siparis_tutari_hesapla()\n",
    "        self.siparis_id = id(self)\n",
    "\n",
    "    def siparis_tutari(self):\n",
    "        \"\"\"\n",
    "        Siparişin tutarini hesaplar\n",
    "        \"\"\"\n",
    "        self.indirimsiz_tutar = (urun.fiyat)*adet \n",
    "        return self.indirimsiz_tutar\n",
    "\n",
    "    def depo_kontrol(self, depo):\n",
    "        \"\"\"\n",
    "        Siparişin seçili depodan karşılanabilir olup olmadığını True/False olarak döndürür.\n",
    "        \"\"\"\n",
    "        return depo.stok_kontrol(self.urun, self.adet)\n",
    "\n",
    "    def siparis_ver(self, depo):\n",
    "        \"\"\"\n",
    "        Depo kontrolü yapar, sipariş geçerli ise ürünleri stoktan düşer, sipariş tamamlanırsa True, depodan sipariş karşılanamazsa False döndürülür.\n",
    "        \"\"\"\n",
    "        if self.depo_kontrol(depo) == True:\n",
    "            depo.stoktan_dus(self.urun, self.adet)\n",
    "            return True\n",
    "        return False\n",
    "\n",
    "    def siparis_bilgisi(self):\n",
    "        \"\"\"\n",
    "        Sipariş bilgisini döndürür\n",
    "        \"\"\"\n",
    "        return f\"{self.urun.urun_bilgileri()}(#{self.siparis_id}) - Adet: {self.adet} - İndirimsiz Tutar: {self.indirimsiz_tutar}\""
   ]
  },
  {
   "cell_type": "code",
   "execution_count": 140,
   "id": "f43ca49b",
   "metadata": {
    "id": "f43ca49b"
   },
   "outputs": [],
   "source": [
    "class Alisveris_Sepeti:\n",
    "    \"\"\"\n",
    "    Çevrimiçi kullanıcının tüm siparişlerini tuttuğu yapıdır. Siparişlerin durumu için birden çok depoyu kontrol edebilir.\n",
    "    \"\"\"\n",
    "    def __init__(self, *depolar):\n",
    "        \"\"\"\n",
    "        Nesneyi üretir\n",
    "        \"\"\"\n",
    "        self.depolar = [depo for depo in depolar]\n",
    "\n",
    "        self.tum_siparisler_listesi = {}\n",
    "        self.toplam_tutar = 0\n",
    "\n",
    "        self.alinabilir_siparisler_listesi = []\n",
    "        self.yetersiz_stoklu_siparisler_listesi = []\n",
    "        self.alinabilir_urunler_toplam_tutar = 0\n",
    "\n",
    "    def siparis_ekle(self, siparis):\n",
    "        \"\"\"\n",
    "        Sisteme yeni siparişi ekler, özel indirim olup olmadığı kontrol edilerek toplam tutarı günceller.\n",
    "        \"\"\"\n",
    "        \n",
    "        if type(siparis.urun) == \"Beyaz_Esya\" and (siparis.urun.enerji_tuketimi_sinifi == \"A\" or siparis.urun.enerji_tuketimi_sinifi == \"A+\"):\n",
    "            self.tum_siparisler_listesi[siparis] = self.ozel_kampanya_uygula(siparis)\n",
    "        else:\n",
    "            self.toplam_tutar += siparis.indirimsiz_tutar\n",
    "            self.tum_siparisler_listesi[siparis] = siparis.indirimsiz_tutar\n",
    "            \n",
    "    def tum_siparisleri_listele(self):\n",
    "        \"\"\"\n",
    "        Alisveris listesindeki tüm siparişlerin bilgilerini görselleştirir.\n",
    "        \"\"\"\n",
    "        for siparis in self.tum_siparisler_listesi:\n",
    "            siparis.siparis_bilgisi()\n",
    "\n",
    "    def siparis_sil(self, siparis_id):\n",
    "        \"\"\"\n",
    "        Sistemden siparişi siler, toplam tutarı günceller.\n",
    "        \"\"\"\n",
    "        for siparis, tutar in self.tum_siparisler_listesi.items():\n",
    "            if siparis.siparis_id == siparis_id:\n",
    "                del tum_siparisler_listesi[siparis]\n",
    "                self.toplam_tutar -= tutar\n",
    "\n",
    "    def guncelle(self):\n",
    "        \"\"\"\n",
    "        Depolara yeni ürün gelmesine veya satış olma durumlarına karşı alınabilir ve yetersiz stok olan ürünlerin listelerini ve alınabilir ürünlerin fiyatlarını günceller.\n",
    "        \"\"\"        \n",
    "        \n",
    "        for siparis, tutar in self.tum_siparisler_listesi.items():\n",
    "            for depo in self.depolar:\n",
    "                if siparis.depo_kontrol(depo) == True:\n",
    "                    if siparis not in self.alinabilir_siparisler_listesi:\n",
    "                        self.alinabilir_urunler_toplam_tutar  += tutar\n",
    "                        self.alinabilir_siparisler_listesi.append(siparis)\n",
    "                        if siparis in self.yetersiz_stoklu_siparisler_listesi:\n",
    "                            self.yetersiz_stoklu_siparisler_listesi.remove(siparis)\n",
    "                else:\n",
    "                    if siparis not in self.yetersiz_stoklu_siparisler_listesi:\n",
    "                        self.alinabilir_urunler_toplam_tutar  -= tutar\n",
    "                        self.yetersiz_stoklu_siparisler_listesi.append(siparis)\n",
    "                        if siparis in  self.alinabilir_siparisler_listesi:\n",
    "                            self.alinabilir_siparisler_listesi.remove(siparis)\n",
    "                    \n",
    "           \n",
    "\n",
    "    def alinabilir_tum_siparişlerin_bilgilerini_listele(self):\n",
    "        \"\"\"\n",
    "        Kullanıcının sipariş oluşturduğu ve depolarda stoğu olan tüm ürünlerin bilgilerini ve indirimli/indirimsiz tutarlarını ekrana yazdırır.\n",
    "        \"\"\"       \n",
    "        for siparis, tutar in self.tum_siparisler_listesi.items():\n",
    "            for depo in self.depolar:\n",
    "                if siparis.depo_kontrol(depo) == True:\n",
    "                    print(siparis.siparis_bilgisi() + tutar)\n",
    "                \n",
    "\n",
    "    def alisverisi_tamamla(self):\n",
    "        \"\"\"\n",
    "        Depolardan tedarik edilebilecek ürünleri stoktan düşer, siparişler listelerini ve toplam tutar değerlerini günceller.\n",
    "        Alışveriş sırasında ürünlerin hangi depodan alındığı önemli değildir.\n",
    "        \"\"\"\n",
    "        for siparis, tutar in self.tum_siparisler_listesi.items():\n",
    "            if siparis.depo_kontrol(siparis.depo) == True:\n",
    "                depo.stoktan_dus(siparis.urun, siparis.adet)\n",
    "                self.alinabilir_siparisler_listesi.append(siparis)\n",
    "                self.toplam_tutar += tutar\n",
    "            else:\n",
    "                self.yetersiz_stoklu_siparisler_listesi.append(siparis)\n",
    "                \n",
    "    def ozel_kampanya_uygula(self, siparis):\n",
    "        \"\"\"\n",
    "        Bir indirim döneminde, enerji sınıfı \"A\" ve \"A+\" olan beyaz eşya ürünlerine 40% indirim yapılmaktadır. Toplam tutar buna göre güncellenir.\n",
    "        \"\"\"\n",
    "        self.toplam_tutar += (siparis.indirimsiz_fiyat*40)/100\n"
   ]
  },
  {
   "cell_type": "code",
   "execution_count": 141,
   "id": "5f76a06b",
   "metadata": {
    "id": "5f76a06b"
   },
   "outputs": [
    {
     "name": "stdout",
     "output_type": "stream",
     "text": [
      "Kazak(#1926010879056) - Fiyat: 2000 TL - Renk: Kırmızı - Beden: Small\n",
      "Çamaşır Makinası(#1926010870480) - Fiyat: 10000 TL - Enerji Tüketimi Sınıfı: A\n",
      "Kazak(#1926010879056) - Fiyat: 2000 TL - Renk: Kırmızı - Beden: Small Adet: 500\n",
      "Çamaşır Makinası(#1926010870480) - Fiyat: 10000 TL - Enerji Tüketimi Sınıfı: A Adet: 700\n",
      "Kazak(#1926010879056) - Fiyat: 2000 TL - Renk: Kırmızı - Beden: Small Adet: 8000\n"
     ]
    },
    {
     "ename": "TypeError",
     "evalue": "can only concatenate str (not \"int\") to str",
     "output_type": "error",
     "traceback": [
      "\u001b[1;31m---------------------------------------------------------------------------\u001b[0m",
      "\u001b[1;31mTypeError\u001b[0m                                 Traceback (most recent call last)",
      "Cell \u001b[1;32mIn[141], line 33\u001b[0m\n\u001b[0;32m     29\u001b[0m alisveris_sepetim\u001b[38;5;241m.\u001b[39mtum_siparisleri_listele()\n\u001b[0;32m     31\u001b[0m alisveris_sepetim\u001b[38;5;241m.\u001b[39mguncelle()\n\u001b[1;32m---> 33\u001b[0m alisveris_sepetim\u001b[38;5;241m.\u001b[39malinabilir_tum_siparişlerin_bilgilerini_listele()\n\u001b[0;32m     35\u001b[0m alisveris_sepetim\u001b[38;5;241m.\u001b[39malisverisi_tamamla()\n\u001b[0;32m     37\u001b[0m alisveris_sepetim\u001b[38;5;241m.\u001b[39mtum_siparisleri_listele()\n",
      "Cell \u001b[1;32mIn[140], line 74\u001b[0m, in \u001b[0;36mAlisveris_Sepeti.alinabilir_tum_siparişlerin_bilgilerini_listele\u001b[1;34m(self)\u001b[0m\n\u001b[0;32m     72\u001b[0m \u001b[38;5;28;01mfor\u001b[39;00m depo \u001b[38;5;129;01min\u001b[39;00m \u001b[38;5;28mself\u001b[39m\u001b[38;5;241m.\u001b[39mdepolar:\n\u001b[0;32m     73\u001b[0m     \u001b[38;5;28;01mif\u001b[39;00m siparis\u001b[38;5;241m.\u001b[39mdepo_kontrol(depo) \u001b[38;5;241m==\u001b[39m \u001b[38;5;28;01mTrue\u001b[39;00m:\n\u001b[1;32m---> 74\u001b[0m         \u001b[38;5;28mprint\u001b[39m(siparis\u001b[38;5;241m.\u001b[39msiparis_bilgisi() \u001b[38;5;241m+\u001b[39m tutar)\n",
      "\u001b[1;31mTypeError\u001b[0m: can only concatenate str (not \"int\") to str"
     ]
    }
   ],
   "source": [
    "# Test Yapısı 1\n",
    "depo1 = Depo()\n",
    "depo2 = Depo()\n",
    "\n",
    "urun1 = Giyim(\"Kazak\", 2000, \"Kırmızı\", \"Small\")\n",
    "urun2 = Beyaz_Esya(\"Çamaşır Makinası\", 10_000, \"A\")\n",
    "\n",
    "print(urun1.urun_bilgileri())\n",
    "print(urun2.urun_bilgileri())\n",
    "\n",
    "depo1.urun_ekle(urun1, 500)\n",
    "depo1.urun_ekle(urun2, 700)\n",
    "\n",
    "depo2.urun_ekle(urun1, 3000)\n",
    "depo2.urun_ekle(urun1, 5000) # urun2 değildir!\n",
    "\n",
    "depo1.tum_urun_bilgilerini_listele()\n",
    "depo2.tum_urun_bilgilerini_listele()\n",
    "\n",
    "\n",
    "siparis1 = Siparis(urun1, 2)\n",
    "siparis2 = Siparis(urun2, 1)\n",
    "\n",
    "alisveris_sepetim = Alisveris_Sepeti(depo1, depo2)\n",
    "\n",
    "alisveris_sepetim.siparis_ekle(siparis1)\n",
    "alisveris_sepetim.siparis_ekle(siparis2)\n",
    "\n",
    "alisveris_sepetim.tum_siparisleri_listele()\n",
    "\n",
    "alisveris_sepetim.guncelle()\n",
    "\n",
    "alisveris_sepetim.alinabilir_tum_siparişlerin_bilgilerini_listele()\n",
    "\n",
    "alisveris_sepetim.alisverisi_tamamla()\n",
    "\n",
    "alisveris_sepetim.tum_siparisleri_listele()\n",
    "\n",
    "depo1.tum_urun_bilgilerini_listele()\n",
    "depo2.tum_urun_bilgilerini_listele() \n"
   ]
  },
  {
   "cell_type": "code",
   "execution_count": 131,
   "id": "e5d506ca",
   "metadata": {
    "id": "e5d506ca"
   },
   "outputs": [
    {
     "name": "stdout",
     "output_type": "stream",
     "text": [
      "Etek(#1926008633104) - Fiyat: 500 TL - Renk: Mavi - Beden: Large\n",
      "Kazak(#1925985715984) - Fiyat: 2000 TL - Renk: Kırmızı - Beden: Small Adet: 500\n",
      "Çamaşır Makinası(#1926008370000) - Fiyat: 10000 TL - Enerji Tüketimi Sınıfı: A Adet: 700\n",
      "Etek(#1926008633104) - Fiyat: 500 TL - Renk: Mavi - Beden: Large Adet: 10\n",
      "Kazak(#1925985715984) - Fiyat: 2000 TL - Renk: Kırmızı - Beden: Small Adet: 8000\n",
      "Etek(#1926008633104) - Fiyat: 500 TL - Renk: Mavi - Beden: Large Adet: 90\n"
     ]
    },
    {
     "ename": "KeyError",
     "evalue": "<__main__.Beyaz_Esya object at 0x000001C06F0B7350>",
     "output_type": "error",
     "traceback": [
      "\u001b[1;31m---------------------------------------------------------------------------\u001b[0m",
      "\u001b[1;31mKeyError\u001b[0m                                  Traceback (most recent call last)",
      "Cell \u001b[1;32mIn[131], line 19\u001b[0m\n\u001b[0;32m     15\u001b[0m alisveris_sepetim\u001b[38;5;241m.\u001b[39msiparis_ekle(siparis3)\n\u001b[0;32m     17\u001b[0m alisveris_sepetim\u001b[38;5;241m.\u001b[39mtum_siparisleri_listele()\n\u001b[1;32m---> 19\u001b[0m alisveris_sepetim\u001b[38;5;241m.\u001b[39mguncelle()\n\u001b[0;32m     21\u001b[0m alisveris_sepetim\u001b[38;5;241m.\u001b[39malinabilir_tum_siparişlerin_bilgilerini_listele()\n\u001b[0;32m     23\u001b[0m alisveris_sepetim\u001b[38;5;241m.\u001b[39malisverisi_tamamla()\n",
      "Cell \u001b[1;32mIn[129], line 52\u001b[0m, in \u001b[0;36mAlisveris_Sepeti.guncelle\u001b[1;34m(self)\u001b[0m\n\u001b[0;32m     50\u001b[0m \u001b[38;5;28;01mfor\u001b[39;00m siparis, tutar \u001b[38;5;129;01min\u001b[39;00m \u001b[38;5;28mself\u001b[39m\u001b[38;5;241m.\u001b[39mtum_siparisler_listesi\u001b[38;5;241m.\u001b[39mitems():\n\u001b[0;32m     51\u001b[0m     \u001b[38;5;28;01mfor\u001b[39;00m depo \u001b[38;5;129;01min\u001b[39;00m \u001b[38;5;28mself\u001b[39m\u001b[38;5;241m.\u001b[39mdepolar:\n\u001b[1;32m---> 52\u001b[0m         \u001b[38;5;28;01mif\u001b[39;00m siparis\u001b[38;5;241m.\u001b[39mdepo_kontrol(depo) \u001b[38;5;241m==\u001b[39m \u001b[38;5;28;01mTrue\u001b[39;00m:\n\u001b[0;32m     53\u001b[0m             \u001b[38;5;28;01mif\u001b[39;00m siparis \u001b[38;5;129;01mnot\u001b[39;00m \u001b[38;5;129;01min\u001b[39;00m \u001b[38;5;28mself\u001b[39m\u001b[38;5;241m.\u001b[39malinabilir_siparisler_listesi:\n\u001b[0;32m     54\u001b[0m                 \u001b[38;5;28mself\u001b[39m\u001b[38;5;241m.\u001b[39malinabilir_urunler_toplam_tutar  \u001b[38;5;241m+\u001b[39m\u001b[38;5;241m=\u001b[39m tutar\n",
      "Cell \u001b[1;32mIn[123], line 26\u001b[0m, in \u001b[0;36mSiparis.depo_kontrol\u001b[1;34m(self, depo)\u001b[0m\n\u001b[0;32m     22\u001b[0m \u001b[38;5;28;01mdef\u001b[39;00m \u001b[38;5;21mdepo_kontrol\u001b[39m(\u001b[38;5;28mself\u001b[39m, depo):\n\u001b[0;32m     23\u001b[0m \u001b[38;5;250m    \u001b[39m\u001b[38;5;124;03m\"\"\"\u001b[39;00m\n\u001b[0;32m     24\u001b[0m \u001b[38;5;124;03m    Siparişin seçili depodan karşılanabilir olup olmadığını True/False olarak döndürür.\u001b[39;00m\n\u001b[0;32m     25\u001b[0m \u001b[38;5;124;03m    \"\"\"\u001b[39;00m\n\u001b[1;32m---> 26\u001b[0m     \u001b[38;5;28;01mreturn\u001b[39;00m depo\u001b[38;5;241m.\u001b[39mstok_kontrol(\u001b[38;5;28mself\u001b[39m\u001b[38;5;241m.\u001b[39murun, \u001b[38;5;28mself\u001b[39m\u001b[38;5;241m.\u001b[39madet)\n",
      "Cell \u001b[1;32mIn[111], line 25\u001b[0m, in \u001b[0;36mDepo.stok_kontrol\u001b[1;34m(self, urun, adet)\u001b[0m\n\u001b[0;32m     21\u001b[0m \u001b[38;5;28;01mdef\u001b[39;00m \u001b[38;5;21mstok_kontrol\u001b[39m(\u001b[38;5;28mself\u001b[39m, urun, adet):\n\u001b[0;32m     22\u001b[0m \u001b[38;5;250m    \u001b[39m\u001b[38;5;124;03m\"\"\"\u001b[39;00m\n\u001b[0;32m     23\u001b[0m \u001b[38;5;124;03m    Seçili üründen istenen sayıda depoda olup olmadığını True/False olarak döndürür.\u001b[39;00m\n\u001b[0;32m     24\u001b[0m \u001b[38;5;124;03m    \"\"\"\u001b[39;00m\n\u001b[1;32m---> 25\u001b[0m     \u001b[38;5;28;01mif\u001b[39;00m \u001b[38;5;28mself\u001b[39m\u001b[38;5;241m.\u001b[39murunler[urun] \u001b[38;5;241m>\u001b[39m\u001b[38;5;241m=\u001b[39m adet:\n\u001b[0;32m     26\u001b[0m         \u001b[38;5;28;01mreturn\u001b[39;00m \u001b[38;5;28;01mTrue\u001b[39;00m\n\u001b[0;32m     27\u001b[0m     \u001b[38;5;28;01mreturn\u001b[39;00m \u001b[38;5;28;01mFalse\u001b[39;00m\n",
      "\u001b[1;31mKeyError\u001b[0m: <__main__.Beyaz_Esya object at 0x000001C06F0B7350>"
     ]
    }
   ],
   "source": [
    "# Test Yapısı 2\n",
    "\n",
    "urun3 = Giyim(\"Etek\", 500, \"Mavi\", \"Large\")\n",
    "\n",
    "print(urun3.urun_bilgileri())\n",
    "\n",
    "depo1.urun_ekle(urun3, 10)\n",
    "depo2.urun_ekle(urun3, 90)\n",
    "\n",
    "depo1.tum_urun_bilgilerini_listele()\n",
    "depo2.tum_urun_bilgilerini_listele()\n",
    "\n",
    "siparis3 = Siparis(urun3, 95)\n",
    "\n",
    "alisveris_sepetim.siparis_ekle(siparis3)\n",
    "\n",
    "alisveris_sepetim.tum_siparisleri_listele()\n",
    "\n",
    "alisveris_sepetim.guncelle()\n",
    "\n",
    "alisveris_sepetim.alinabilir_tum_siparişlerin_bilgilerini_listele()\n",
    "\n",
    "alisveris_sepetim.alisverisi_tamamla()\n",
    "\n",
    "alisveris_sepetim.tum_siparisleri_listele()\n",
    "\n",
    "depo1.tum_urun_bilgilerini_listele()\n",
    "depo2.tum_urun_bilgilerini_listele()"
   ]
  },
  {
   "cell_type": "code",
   "execution_count": 142,
   "id": "b673d2ed",
   "metadata": {
    "id": "b673d2ed"
   },
   "outputs": [
    {
     "name": "stdout",
     "output_type": "stream",
     "text": [
      "Buzdolabı(#1926010953872) - Fiyat: 15000 TL - Enerji Tüketimi Sınıfı: C\n",
      "Kazak(#1926010879056) - Fiyat: 2000 TL - Renk: Kırmızı - Beden: Small Adet: 500\n",
      "Çamaşır Makinası(#1926010870480) - Fiyat: 10000 TL - Enerji Tüketimi Sınıfı: A Adet: 700\n",
      "Buzdolabı(#1926010953872) - Fiyat: 15000 TL - Enerji Tüketimi Sınıfı: C Adet: 3\n",
      "Kazak(#1926010879056) - Fiyat: 2000 TL - Renk: Kırmızı - Beden: Small Adet: 8000\n",
      "Buzdolabı(#1926010953872) - Fiyat: 15000 TL - Enerji Tüketimi Sınıfı: C Adet: 8\n"
     ]
    },
    {
     "ename": "TypeError",
     "evalue": "can only concatenate str (not \"int\") to str",
     "output_type": "error",
     "traceback": [
      "\u001b[1;31m---------------------------------------------------------------------------\u001b[0m",
      "\u001b[1;31mTypeError\u001b[0m                                 Traceback (most recent call last)",
      "Cell \u001b[1;32mIn[142], line 21\u001b[0m\n\u001b[0;32m     17\u001b[0m alisveris_sepetim\u001b[38;5;241m.\u001b[39mtum_siparisleri_listele()\n\u001b[0;32m     19\u001b[0m alisveris_sepetim\u001b[38;5;241m.\u001b[39mguncelle()\n\u001b[1;32m---> 21\u001b[0m alisveris_sepetim\u001b[38;5;241m.\u001b[39malinabilir_tum_siparişlerin_bilgilerini_listele()\n\u001b[0;32m     23\u001b[0m alisveris_sepetim\u001b[38;5;241m.\u001b[39malisverisi_tamamla()\n\u001b[0;32m     25\u001b[0m alisveris_sepetim\u001b[38;5;241m.\u001b[39mtum_siparisleri_listele()\n",
      "Cell \u001b[1;32mIn[140], line 74\u001b[0m, in \u001b[0;36mAlisveris_Sepeti.alinabilir_tum_siparişlerin_bilgilerini_listele\u001b[1;34m(self)\u001b[0m\n\u001b[0;32m     72\u001b[0m \u001b[38;5;28;01mfor\u001b[39;00m depo \u001b[38;5;129;01min\u001b[39;00m \u001b[38;5;28mself\u001b[39m\u001b[38;5;241m.\u001b[39mdepolar:\n\u001b[0;32m     73\u001b[0m     \u001b[38;5;28;01mif\u001b[39;00m siparis\u001b[38;5;241m.\u001b[39mdepo_kontrol(depo) \u001b[38;5;241m==\u001b[39m \u001b[38;5;28;01mTrue\u001b[39;00m:\n\u001b[1;32m---> 74\u001b[0m         \u001b[38;5;28mprint\u001b[39m(siparis\u001b[38;5;241m.\u001b[39msiparis_bilgisi() \u001b[38;5;241m+\u001b[39m tutar)\n",
      "\u001b[1;31mTypeError\u001b[0m: can only concatenate str (not \"int\") to str"
     ]
    }
   ],
   "source": [
    "# Test Yapısı 3\n",
    "\n",
    "urun4 = Beyaz_Esya(\"Buzdolabı\", 15_000, \"C\")\n",
    "\n",
    "print(urun4.urun_bilgileri())\n",
    "\n",
    "depo1.urun_ekle(urun4, 3)\n",
    "depo2.urun_ekle(urun4, 8)\n",
    "\n",
    "depo1.tum_urun_bilgilerini_listele()\n",
    "depo2.tum_urun_bilgilerini_listele()\n",
    "\n",
    "siparis4 = Siparis(urun4, 15)\n",
    "\n",
    "alisveris_sepetim.siparis_ekle(siparis4)\n",
    "\n",
    "alisveris_sepetim.tum_siparisleri_listele()\n",
    "\n",
    "alisveris_sepetim.guncelle()\n",
    "\n",
    "alisveris_sepetim.alinabilir_tum_siparişlerin_bilgilerini_listele()\n",
    "\n",
    "alisveris_sepetim.alisverisi_tamamla()\n",
    "\n",
    "alisveris_sepetim.tum_siparisleri_listele()\n",
    "\n",
    "depo1.tum_urun_bilgilerini_listele()\n",
    "depo2.tum_urun_bilgilerini_listele()"
   ]
  },
  {
   "cell_type": "code",
   "execution_count": null,
   "id": "63943399",
   "metadata": {},
   "outputs": [],
   "source": []
  }
 ],
 "metadata": {
  "colab": {
   "provenance": []
  },
  "kernelspec": {
   "display_name": "Python 3 (ipykernel)",
   "language": "python",
   "name": "python3"
  },
  "language_info": {
   "codemirror_mode": {
    "name": "ipython",
    "version": 3
   },
   "file_extension": ".py",
   "mimetype": "text/x-python",
   "name": "python",
   "nbconvert_exporter": "python",
   "pygments_lexer": "ipython3",
   "version": "3.11.5"
  }
 },
 "nbformat": 4,
 "nbformat_minor": 5
}
