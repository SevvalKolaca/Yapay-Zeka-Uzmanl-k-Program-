{
  "cells": [
    {
      "cell_type": "code",
      "execution_count": null,
      "id": "7b05160e",
      "metadata": {
        "id": "7b05160e"
      },
      "outputs": [],
      "source": [
        "import matplotlib.pyplot as plt\n",
        "import pandas as pd\n",
        "import numpy as np"
      ]
    },
    {
      "cell_type": "markdown",
      "id": "da48a752",
      "metadata": {
        "id": "da48a752"
      },
      "source": [
        "# Soru 1"
      ]
    },
    {
      "cell_type": "markdown",
      "id": "5561e2c9",
      "metadata": {
        "id": "5561e2c9"
      },
      "source": [
        "Bir astronot, Dünya'dan ışık yılı uzakta bulunan bir yıldız sistemini keşfetti. Yıldız sistemindeki iki gezegenin konumunu birer Numpy dizisi olarak kaydetti. Astronot, gezegenler arasındaki mesafeyi Euclidean mesafesi kullanarak hesaplamak istiyor. Bir program yazın ve gezegenler arasındaki mesafeyi hesaplayın.\n",
        "\n",
        "Açıklama:\n",
        "\n",
        "          Birinci Gezegen Konumu: x1,y1,z1, İkinci Gezegen Konumu: x2,y2,z2 şeklindedir.\n",
        "\n",
        "          Euclidean mesafesini hesaplamak için aşağıdaki verilen denkleme göre fonksiyon yazınız.\n",
        "          \n",
        "          Yazmış olduğunuz programı değerler girerek test ediniz.  \n",
        "          \n",
        "Euclidean mesafesi:\n",
        "\\begin{equation}\n",
        "\\sqrt((x1-x2)^2 + (y1-y2)^2 + (z1-z2)^2)\n",
        "\\end{equation}\n"
      ]
    },
    {
      "cell_type": "markdown",
      "id": "88c2da93",
      "metadata": {
        "id": "88c2da93"
      },
      "source": [
        "# Cevap 1"
      ]
    },
    {
      "cell_type": "code",
      "execution_count": 88,
      "id": "40028223",
      "metadata": {
        "colab": {
          "base_uri": "https://localhost:8080/"
        },
        "id": "40028223",
        "outputId": "ff2bcd49-8385-4d31-ecaa-6da081ae7eaf"
      },
      "outputs": [
        {
          "name": "stdout",
          "output_type": "stream",
          "text": [
            "sonuc1: 5.196152422706632\n",
            "\n",
            "\n",
            "sonuc2:\n",
            "Noktaların boyutları eşit değil!\n",
            "Orijinal hata mesajı --> operands could not be broadcast together with shapes (3,) (2,) \n"
          ]
        }
      ],
      "source": [
        "import numpy as np\n",
        "\n",
        "def euclidean_distance(point1, point2):\n",
        "    try:\n",
        "        fark = point1 - point2\n",
        "        fark_kareleri = fark ** 2\n",
        "        toplam_fark_kareleri = np.sum(fark_kareleri)\n",
        "        sonuc = np.sqrt(toplam_fark_kareleri)\n",
        "        return sonuc\n",
        "    except ValueError as hata:\n",
        "        print(\"Noktaların boyutları eşit değil!\\nOrijinal hata mesajı -->\",hata)\n",
        "\n",
        "\n",
        "nokta1 = np.array([1, 2, 3])\n",
        "nokta2 = np.array([4, 5, 6])\n",
        "\n",
        "nokta3 = np.array([1, 2,3])\n",
        "nokta4 = np.array([8, 5])\n",
        "\n",
        "#sonuc1 = euclidean_distance(nokta1, nokta2)\n",
        "sonuc1 = euclidean_distance(nokta1, nokta2)\n",
        "print(\"sonuc1:\",sonuc1)\n",
        "\n",
        "print(\"\\n\\nsonuc2:\")\n",
        "sonuc2 = euclidean_distance(nokta3, nokta4)"
      ]
    },
    {
      "cell_type": "markdown",
      "id": "43e47693",
      "metadata": {
        "id": "43e47693"
      },
      "source": [
        "# Soru 2"
      ]
    },
    {
      "cell_type": "markdown",
      "id": "ae308d47",
      "metadata": {
        "id": "ae308d47"
      },
      "source": [
        "Akciğer kanseri nedenleri ile ilgili araştırma yapılmak istenmektedir. Bu sebeple hastalardan veriler toplanmakta ve \"cancer patient data sets\" isimli veri seti oluşturulmaktadır. Bu veri setindeki değerler Pandas kütüphanesi kullanılarak analiz edilmesi istenmektedir."
      ]
    },
    {
      "cell_type": "code",
      "execution_count": null,
      "id": "098b165a",
      "metadata": {
        "id": "098b165a"
      },
      "outputs": [],
      "source": [
        "#Veri setini import edin."
      ]
    },
    {
      "cell_type": "code",
      "execution_count": 89,
      "id": "84856656",
      "metadata": {
        "colab": {
          "base_uri": "https://localhost:8080/"
        },
        "id": "84856656",
        "outputId": "28e0d191-4efa-4178-c6e8-36583fec31cd"
      },
      "outputs": [
        {
          "name": "stdout",
          "output_type": "stream",
          "text": [
            "<class 'pandas.core.frame.DataFrame'>\n",
            "RangeIndex: 1000 entries, 0 to 999\n",
            "Data columns (total 26 columns):\n",
            " #   Column                    Non-Null Count  Dtype \n",
            "---  ------                    --------------  ----- \n",
            " 0   index                     1000 non-null   int64 \n",
            " 1   Patient Id                1000 non-null   object\n",
            " 2   Age                       1000 non-null   int64 \n",
            " 3   Gender                    1000 non-null   int64 \n",
            " 4   Air Pollution             1000 non-null   int64 \n",
            " 5   Alcohol use               1000 non-null   int64 \n",
            " 6   Dust Allergy              1000 non-null   int64 \n",
            " 7   OccuPational Hazards      1000 non-null   int64 \n",
            " 8   Genetic Risk              1000 non-null   int64 \n",
            " 9   chronic Lung Disease      1000 non-null   int64 \n",
            " 10  Balanced Diet             1000 non-null   int64 \n",
            " 11  Obesity                   1000 non-null   int64 \n",
            " 12  Smoking                   1000 non-null   int64 \n",
            " 13  Passive Smoker            1000 non-null   int64 \n",
            " 14  Chest Pain                1000 non-null   int64 \n",
            " 15  Coughing of Blood         1000 non-null   int64 \n",
            " 16  Fatigue                   1000 non-null   int64 \n",
            " 17  Weight Loss               1000 non-null   int64 \n",
            " 18  Shortness of Breath       1000 non-null   int64 \n",
            " 19  Wheezing                  1000 non-null   int64 \n",
            " 20  Swallowing Difficulty     1000 non-null   int64 \n",
            " 21  Clubbing of Finger Nails  1000 non-null   int64 \n",
            " 22  Frequent Cold             1000 non-null   int64 \n",
            " 23  Dry Cough                 1000 non-null   int64 \n",
            " 24  Snoring                   1000 non-null   int64 \n",
            " 25  Level                     1000 non-null   object\n",
            "dtypes: int64(24), object(2)\n",
            "memory usage: 203.2+ KB\n",
            "   index Patient Id  Age  Gender  Air Pollution  Alcohol use  Dust Allergy  \\\n",
            "0      0         P1   33       1              2            4             5   \n",
            "1      1        P10   17       1              3            1             5   \n",
            "2      2       P100   35       1              4            5             6   \n",
            "3      3      P1000   37       1              7            7             7   \n",
            "4      4       P101   46       1              6            8             7   \n",
            "\n",
            "   OccuPational Hazards  Genetic Risk  chronic Lung Disease  ...  Fatigue  \\\n",
            "0                     4             3                     2  ...        3   \n",
            "1                     3             4                     2  ...        1   \n",
            "2                     5             5                     4  ...        8   \n",
            "3                     7             6                     7  ...        4   \n",
            "4                     7             7                     6  ...        3   \n",
            "\n",
            "   Weight Loss  Shortness of Breath  Wheezing  Swallowing Difficulty  \\\n",
            "0            4                    2         2                      3   \n",
            "1            3                    7         8                      6   \n",
            "2            7                    9         2                      1   \n",
            "3            2                    3         1                      4   \n",
            "4            2                    4         1                      4   \n",
            "\n",
            "   Clubbing of Finger Nails  Frequent Cold  Dry Cough  Snoring   Level  \n",
            "0                         1              2          3        4     Low  \n",
            "1                         2              1          7        2  Medium  \n",
            "2                         4              6          7        2    High  \n",
            "3                         5              6          7        5    High  \n",
            "4                         2              4          2        3    High  \n",
            "\n",
            "[5 rows x 26 columns]\n"
          ]
        }
      ],
      "source": [
        "import pandas as pd\n",
        "\n",
        "data = pd.read_csv(\"/content/cancer patient data sets.csv\")\n",
        "type(data)\n",
        "data.info()\n",
        "print(data.head())"
      ]
    },
    {
      "cell_type": "code",
      "execution_count": null,
      "id": "849e03fe",
      "metadata": {
        "id": "849e03fe"
      },
      "outputs": [],
      "source": [
        "#Veri setinde sütunları bulunuz."
      ]
    },
    {
      "cell_type": "code",
      "execution_count": 9,
      "id": "1fa8e0ac",
      "metadata": {
        "colab": {
          "base_uri": "https://localhost:8080/"
        },
        "id": "1fa8e0ac",
        "outputId": "3b6090dd-cc33-4eef-f550-cce49bf2479a"
      },
      "outputs": [
        {
          "name": "stdout",
          "output_type": "stream",
          "text": [
            "Index(['index', 'Patient Id', 'Age', 'Gender', 'Air Pollution', 'Alcohol use',\n",
            "       'Dust Allergy', 'OccuPational Hazards', 'Genetic Risk',\n",
            "       'chronic Lung Disease', 'Balanced Diet', 'Obesity', 'Smoking',\n",
            "       'Passive Smoker', 'Chest Pain', 'Coughing of Blood', 'Fatigue',\n",
            "       'Weight Loss', 'Shortness of Breath', 'Wheezing',\n",
            "       'Swallowing Difficulty', 'Clubbing of Finger Nails', 'Frequent Cold',\n",
            "       'Dry Cough', 'Snoring', 'Level'],\n",
            "      dtype='object')\n",
            "\n",
            "\n",
            "\n",
            "['index' 'Patient Id' 'Age' 'Gender' 'Air Pollution' 'Alcohol use'\n",
            " 'Dust Allergy' 'OccuPational Hazards' 'Genetic Risk'\n",
            " 'chronic Lung Disease' 'Balanced Diet' 'Obesity' 'Smoking'\n",
            " 'Passive Smoker' 'Chest Pain' 'Coughing of Blood' 'Fatigue' 'Weight Loss'\n",
            " 'Shortness of Breath' 'Wheezing' 'Swallowing Difficulty'\n",
            " 'Clubbing of Finger Nails' 'Frequent Cold' 'Dry Cough' 'Snoring' 'Level']\n"
          ]
        }
      ],
      "source": [
        "print(data.columns.values)\n",
        "print(\"\\n\\n\")\n",
        "print(data.columns)"
      ]
    },
    {
      "cell_type": "code",
      "execution_count": null,
      "id": "a7e4b78c",
      "metadata": {
        "id": "a7e4b78c"
      },
      "outputs": [],
      "source": [
        "#Gender'a göre grouplama yapınız ve toplamlarını bulunuz."
      ]
    },
    {
      "cell_type": "code",
      "execution_count": 13,
      "id": "c4b67b68",
      "metadata": {
        "colab": {
          "base_uri": "https://localhost:8080/"
        },
        "id": "c4b67b68",
        "outputId": "4b9c5fb8-0eaa-4c78-e0f4-678376bcb1c0"
      },
      "outputs": [
        {
          "name": "stdout",
          "output_type": "stream",
          "text": [
            "         index    Age  Air Pollution  Alcohol use  Dust Allergy  \\\n",
            "Gender                                                            \n",
            "1       302344  23419           2542         3021          3287   \n",
            "2       197156  13755           1298         1542          1878   \n",
            "\n",
            "        OccuPational Hazards  Genetic Risk  chronic Lung Disease  \\\n",
            "Gender                                                             \n",
            "1                       3093          2971                  2805   \n",
            "2                       1747          1609                  1575   \n",
            "\n",
            "        Balanced Diet  Obesity  ...  Coughing of Blood  Fatigue  Weight Loss  \\\n",
            "Gender                          ...                                            \n",
            "1                2790     2799  ...               3080     2434         2368   \n",
            "2                1701     1666  ...               1779     1422         1487   \n",
            "\n",
            "        Shortness of Breath  Wheezing  Swallowing Difficulty  \\\n",
            "Gender                                                         \n",
            "1                      2587      2335                   2305   \n",
            "2                      1653      1442                   1441   \n",
            "\n",
            "        Clubbing of Finger Nails  Frequent Cold  Dry Cough  Snoring  \n",
            "Gender                                                               \n",
            "1                           2386           2115       2427     1881  \n",
            "2                           1537           1421       1426     1045  \n",
            "\n",
            "[2 rows x 23 columns]\n"
          ]
        }
      ],
      "source": [
        "sum_by_gender = data.groupby('Gender').sum(numeric_only = True)\n",
        "print(sum_by_gender)"
      ]
    },
    {
      "cell_type": "markdown",
      "id": "58e1f150",
      "metadata": {
        "id": "58e1f150"
      },
      "source": [
        "## Soru 2-1"
      ]
    },
    {
      "cell_type": "markdown",
      "id": "e10c1f5a",
      "metadata": {
        "id": "e10c1f5a"
      },
      "source": [
        "1 numaralı Gender'ın 2 numaralı Gender'a göre toplam Genetic Risk durum oranını bulunuz."
      ]
    },
    {
      "cell_type": "markdown",
      "id": "b773a50e",
      "metadata": {
        "id": "b773a50e"
      },
      "source": [
        "## Cevap 2-1"
      ]
    },
    {
      "cell_type": "code",
      "execution_count": 91,
      "id": "3a121f04",
      "metadata": {
        "colab": {
          "base_uri": "https://localhost:8080/"
        },
        "id": "3a121f04",
        "outputId": "f745060e-c565-4f74-c383-7132fff5776f"
      },
      "outputs": [
        {
          "name": "stdout",
          "output_type": "stream",
          "text": [
            "Gender\n",
            "1    2971\n",
            "2    1609\n",
            "Name: Genetic Risk, dtype: int64\n",
            "\n",
            "Genetik risk oranı: 1.8464885021752642\n"
          ]
        }
      ],
      "source": [
        "cinsiyete_gore_toplam_genetik_risk = data.groupby('Gender')['Genetic Risk'].sum()\n",
        "print(cinsiyete_gore_toplam_genetik_risk)\n",
        "\n",
        "# 1 in 2 ye oranı\n",
        "genetik_risk_orani = cinsiyete_gore_toplam_genetik_risk[1] / cinsiyete_gore_toplam_genetik_risk[2]\n",
        "print(\"\\nGenetik risk oranı:\",genetik_risk_orani)"
      ]
    },
    {
      "cell_type": "markdown",
      "id": "cfe3afad",
      "metadata": {
        "id": "cfe3afad"
      },
      "source": [
        "## Soru 2-2"
      ]
    },
    {
      "cell_type": "markdown",
      "id": "319c1ff0",
      "metadata": {
        "id": "319c1ff0"
      },
      "source": [
        "30 yaşından büyük Low Level hastaların Dry Cough toplamı ile 30 yaşından büyük High Level hastaların Dry Cough toplamı oranını bulunuz."
      ]
    },
    {
      "cell_type": "markdown",
      "id": "6895a3b4",
      "metadata": {
        "id": "6895a3b4"
      },
      "source": [
        "## Cevap 2-2"
      ]
    },
    {
      "cell_type": "code",
      "execution_count": 92,
      "id": "b2e3b6b4",
      "metadata": {
        "colab": {
          "base_uri": "https://localhost:8080/"
        },
        "id": "b2e3b6b4",
        "outputId": "ee95a76c-df5a-4610-d207-9b5b62965293"
      },
      "outputs": [
        {
          "name": "stdout",
          "output_type": "stream",
          "text": [
            "\n",
            "Oran: 0.9138321995464853\n"
          ]
        }
      ],
      "source": [
        "arti_30_yas_df = data[data['Age'] < 30]\n",
        "# print(arti_30_yas_df)\n",
        "levele_gore_hastalar = arti_30_yas_df.groupby('Level')['Dry Cough'].sum()\n",
        "# print(levele_gore_hastalar)\n",
        "\n",
        "oran = levele_gore_hastalar['Low'] / levele_gore_hastalar['High']\n",
        "print(\"\\nOran:\", oran)"
      ]
    },
    {
      "cell_type": "markdown",
      "id": "6b98f08e",
      "metadata": {
        "id": "6b98f08e"
      },
      "source": [
        "## Soru 2-3"
      ]
    },
    {
      "cell_type": "markdown",
      "id": "9185a35c",
      "metadata": {
        "id": "9185a35c"
      },
      "source": [
        "İlgili veri setinde hastalığa sebep olan baskın öznitelikler çıkarılmaktadır.\n",
        "\n",
        "Bu öznitelikler sırasıyla\n",
        "\n",
        "a: Air Pollution, b: Alcohol use, c: Smoking, d: Genetic Risk olarak bulunmuştur.   \n",
        "\n",
        "y = 2 * a + 3 * b + 4 * c + d şeklinde bir fonksiyon yazılarak ilgili hasta için y risk değeri hesaplanmaktadır.\n",
        "\n",
        "y risk değeri 50'den büyük olan hastaların Patient Id'lerini bulunuz."
      ]
    },
    {
      "cell_type": "markdown",
      "id": "bc50cceb",
      "metadata": {
        "id": "bc50cceb"
      },
      "source": [
        "## Cevap 2-3"
      ]
    },
    {
      "cell_type": "code",
      "execution_count": 93,
      "id": "a70e29d3",
      "metadata": {
        "colab": {
          "base_uri": "https://localhost:8080/"
        },
        "id": "a70e29d3",
        "outputId": "4d601dee-fee0-4ac7-f999-d84acd6325ae"
      },
      "outputs": [
        {
          "name": "stdout",
          "output_type": "stream",
          "text": [
            "Yüksek riskli hasta id'leri:\n",
            " ['P1000', 'P101', 'P105', 'P107', 'P108', 'P109', 'P11', 'P111', 'P113', 'P114', 'P116', 'P118', 'P119', 'P12', 'P123', 'P125', 'P131', 'P14', 'P16', 'P17', 'P177', 'P178', 'P179', 'P180', 'P182', 'P183', 'P184', 'P185', 'P186', 'P187', 'P189', 'P191', 'P192', 'P193', 'P194', 'P195', 'P196', 'P198', 'P200', 'P201', 'P205', 'P207', 'P208', 'P209', 'P21', 'P211', 'P213', 'P214', 'P216', 'P218', 'P219', 'P223', 'P225', 'P23', 'P231', 'P277', 'P278', 'P279', 'P280', 'P282', 'P283', 'P284', 'P285', 'P286', 'P287', 'P289', 'P29', 'P291', 'P292', 'P293', 'P294', 'P295', 'P296', 'P298', 'P3', 'P300', 'P301', 'P305', 'P307', 'P308', 'P309', 'P311', 'P313', 'P314', 'P316', 'P318', 'P319', 'P323', 'P325', 'P331', 'P377', 'P378', 'P379', 'P380', 'P382', 'P383', 'P384', 'P385', 'P386', 'P387', 'P389', 'P391', 'P392', 'P393', 'P394', 'P395', 'P396', 'P398', 'P400', 'P401', 'P405', 'P407', 'P408', 'P409', 'P411', 'P413', 'P414', 'P416', 'P418', 'P419', 'P423', 'P425', 'P431', 'P477', 'P478', 'P479', 'P480', 'P482', 'P483', 'P484', 'P485', 'P486', 'P487', 'P489', 'P491', 'P492', 'P493', 'P494', 'P495', 'P496', 'P498', 'P5', 'P500', 'P501', 'P505', 'P507', 'P508', 'P509', 'P511', 'P513', 'P514', 'P516', 'P518', 'P519', 'P523', 'P525', 'P531', 'P577', 'P578', 'P579', 'P580', 'P582', 'P583', 'P584', 'P585', 'P586', 'P587', 'P589', 'P591', 'P592', 'P593', 'P594', 'P595', 'P596', 'P598', 'P6', 'P600', 'P601', 'P605', 'P607', 'P608', 'P609', 'P611', 'P613', 'P614', 'P616', 'P618', 'P619', 'P623', 'P625', 'P631', 'P677', 'P678', 'P679', 'P680', 'P682', 'P683', 'P684', 'P685', 'P686', 'P687', 'P689', 'P691', 'P692', 'P693', 'P694', 'P695', 'P696', 'P698', 'P7', 'P700', 'P701', 'P705', 'P707', 'P708', 'P709', 'P711', 'P713', 'P714', 'P716', 'P718', 'P719', 'P723', 'P725', 'P731', 'P75', 'P76', 'P77', 'P777', 'P778', 'P779', 'P78', 'P780', 'P782', 'P783', 'P784', 'P785', 'P786', 'P787', 'P789', 'P791', 'P792', 'P793', 'P794', 'P795', 'P796', 'P798', 'P80', 'P800', 'P801', 'P805', 'P807', 'P808', 'P809', 'P81', 'P811', 'P813', 'P814', 'P816', 'P818', 'P819', 'P82', 'P823', 'P825', 'P83', 'P831', 'P84', 'P85', 'P87', 'P877', 'P878', 'P879', 'P880', 'P882', 'P883', 'P884', 'P885', 'P886', 'P887', 'P889', 'P89', 'P891', 'P892', 'P893', 'P894', 'P895', 'P896', 'P898', 'P9', 'P90', 'P900', 'P901', 'P905', 'P907', 'P908', 'P909', 'P91', 'P911', 'P913', 'P914', 'P916', 'P918', 'P919', 'P92', 'P923', 'P925', 'P93', 'P931', 'P94', 'P96', 'P977', 'P98', 'P982', 'P983', 'P986', 'P987', 'P989', 'P99', 'P991', 'P992', 'P993', 'P994', 'P995', 'P996', 'P998']\n"
          ]
        }
      ],
      "source": [
        "a = data['Air Pollution']\n",
        "b = data['Alcohol use']\n",
        "c = data['Smoking']\n",
        "d = data['Genetic Risk']\n",
        "\n",
        "y = 2 * a + 3 * b + 4 * c + d\n",
        "\n",
        "yuksek_risk_hasta_id = data[y > 50]['Patient Id'].tolist()\n",
        "print(\"Yüksek riskli hasta id'leri:\\n\", yuksek_risk_hasta_id)"
      ]
    },
    {
      "cell_type": "markdown",
      "id": "ce883ea1",
      "metadata": {
        "id": "ce883ea1"
      },
      "source": [
        "## Soru 2-4"
      ]
    },
    {
      "cell_type": "markdown",
      "id": "65e4ac11",
      "metadata": {
        "id": "65e4ac11"
      },
      "source": [
        "Cinsiyete (Gender) göre gruplama yaparak plotbar() fonksiyonu ile 1 ve 2 numaralı Gender için kansere sebep olan Air Pollution, Obesity, Smoking ve Snooring faktörlerinin toplamlarını aynı grafik üzerinde çizdiriniz.\n",
        "\n",
        "Dikkat: Grafik ismini, axes isimlerini, legend isimlerini yazmayı unutmayalım."
      ]
    },
    {
      "cell_type": "markdown",
      "id": "f13f886f",
      "metadata": {
        "id": "f13f886f"
      },
      "source": [
        "## Cevap 2-4"
      ]
    },
    {
      "cell_type": "code",
      "execution_count": 67,
      "id": "6416cc47",
      "metadata": {
        "colab": {
          "base_uri": "https://localhost:8080/",
          "height": 681
        },
        "id": "6416cc47",
        "outputId": "d9fd6824-730a-44ef-8b14-8fa2f579fd8b"
      },
      "outputs": [
        {
          "name": "stdout",
          "output_type": "stream",
          "text": [
            "        Air Pollution  Obesity  Smoking  Snoring\n",
            "Gender                                          \n",
            "1                2542     2799     2614     1881\n",
            "2                1298     1666     1334     1045\n"
          ]
        },
        {
          "data": {
            "image/png": "[encoded data removed]",
            "text/plain": [
              "<Figure size 800x600 with 1 Axes>"
            ]
          },
          "metadata": {},
          "output_type": "display_data"
        }
      ],
      "source": [
        "from matplotlib import pyplot as plt\n",
        "\n",
        "def addlabels(ax, bars):\n",
        "    for bar in bars:\n",
        "        height = bar.get_height()\n",
        "        ax.annotate('{}'.format(height),\n",
        "                    xy=(bar.get_x() + bar.get_width() / 2, height),\n",
        "                    xytext=(0, 3),  # 3 points vertical offset\n",
        "                    textcoords=\"offset points\",\n",
        "                    ha='center', va='bottom')\n",
        "\n",
        "gender_sum = data.groupby('Gender')[['Air Pollution', 'Obesity', 'Smoking', 'Snoring']].sum()\n",
        "print(gender_sum)\n",
        "\n",
        "plt.figure(figsize=(8,6))\n",
        "\n",
        "ax1 = gender_sum.loc[1].plot.bar(color='hotpink', position=0, width=0.3, label='Gender 1', align='center')\n",
        "ax2 = gender_sum.loc[2].plot.bar(color='skyblue', position=1, width=0.3, label='Gender 2', align='center', ax=ax1)\n",
        "\n",
        "addlabels(ax1, ax1.patches)\n",
        "addlabels(ax2, ax2.patches)\n",
        "\n",
        "plt.title('Kansere Sebep Olan Faktörler')\n",
        "plt.xlabel('Faktörler', fontsize=12)\n",
        "plt.ylabel('Toplam', fontsize=12)\n",
        "plt.xticks(rotation=0) # etiketlerin düz olması için\n",
        "plt.legend()\n",
        "plt.tight_layout() # Grafiklerin daha iyi görünmesi için\n",
        "\n",
        "plt.show()"
      ]
    }
  ],
  "metadata": {
    "colab": {
      "provenance": []
    },
    "kernelspec": {
      "display_name": "Python 3 (ipykernel)",
      "language": "python",
      "name": "python3"
    },
    "language_info": {
      "codemirror_mode": {
        "name": "ipython",
        "version": 3
      },
      "file_extension": ".py",
      "mimetype": "text/x-python",
      "name": "python",
      "nbconvert_exporter": "python",
      "pygments_lexer": "ipython3",
      "version": "3.9.12"
    }
  },
  "nbformat": 4,
  "nbformat_minor": 5
}
